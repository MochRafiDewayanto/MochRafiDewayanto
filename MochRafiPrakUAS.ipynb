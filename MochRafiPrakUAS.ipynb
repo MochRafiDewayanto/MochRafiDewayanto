{
  "nbformat": 4,
  "nbformat_minor": 0,
  "metadata": {
    "colab": {
      "provenance": [],
      "authorship_tag": "ABX9TyPXAMfFPiePeADZVTVi6ClO",
      "include_colab_link": true
    },
    "kernelspec": {
      "name": "python3",
      "display_name": "Python 3"
    },
    "language_info": {
      "name": "python"
    }
  },
  "cells": [
    {
      "cell_type": "markdown",
      "metadata": {
        "id": "view-in-github",
        "colab_type": "text"
      },
      "source": [
        "<a href=\"https://colab.research.google.com/github/MochRafiDewayanto/MochRafiDewayanto/blob/main/MochRafiPrakUAS.ipynb\" target=\"_parent\"><img src=\"https://colab.research.google.com/assets/colab-badge.svg\" alt=\"Open In Colab\"/></a>"
      ]
    },
    {
      "cell_type": "markdown",
      "source": [
        "**Nama: Moch Rafi Dewayanto**"
      ],
      "metadata": {
        "id": "2gg49hbzWsgU"
      }
    },
    {
      "cell_type": "markdown",
      "source": [
        "**Nim: G.231.22.0089**"
      ],
      "metadata": {
        "id": "p2IG4ib5W5ip"
      }
    },
    {
      "cell_type": "markdown",
      "source": [
        "**Matkul: Komputer Grafis**"
      ],
      "metadata": {
        "id": "Mi9BkBB1XBrK"
      }
    },
    {
      "cell_type": "markdown",
      "source": [
        "**Materi: UAS Praktikum**"
      ],
      "metadata": {
        "id": "RiLf4LerXPcg"
      }
    },
    {
      "cell_type": "code",
      "execution_count": null,
      "metadata": {
        "colab": {
          "base_uri": "https://localhost:8080/",
          "height": 73
        },
        "id": "DUdCTKDN6b52",
        "outputId": "8510cf00-2b95-4219-c2a5-6372bbf56b78"
      },
      "outputs": [
        {
          "output_type": "display_data",
          "data": {
            "text/plain": [
              "<IPython.core.display.HTML object>"
            ],
            "text/html": [
              "\n",
              "     <input type=\"file\" id=\"files-33d9fa5b-cf73-4f29-adbc-fc7d45851e76\" name=\"files[]\" multiple disabled\n",
              "        style=\"border:none\" />\n",
              "     <output id=\"result-33d9fa5b-cf73-4f29-adbc-fc7d45851e76\">\n",
              "      Upload widget is only available when the cell has been executed in the\n",
              "      current browser session. Please rerun this cell to enable.\n",
              "      </output>\n",
              "      <script>// Copyright 2017 Google LLC\n",
              "//\n",
              "// Licensed under the Apache License, Version 2.0 (the \"License\");\n",
              "// you may not use this file except in compliance with the License.\n",
              "// You may obtain a copy of the License at\n",
              "//\n",
              "//      http://www.apache.org/licenses/LICENSE-2.0\n",
              "//\n",
              "// Unless required by applicable law or agreed to in writing, software\n",
              "// distributed under the License is distributed on an \"AS IS\" BASIS,\n",
              "// WITHOUT WARRANTIES OR CONDITIONS OF ANY KIND, either express or implied.\n",
              "// See the License for the specific language governing permissions and\n",
              "// limitations under the License.\n",
              "\n",
              "/**\n",
              " * @fileoverview Helpers for google.colab Python module.\n",
              " */\n",
              "(function(scope) {\n",
              "function span(text, styleAttributes = {}) {\n",
              "  const element = document.createElement('span');\n",
              "  element.textContent = text;\n",
              "  for (const key of Object.keys(styleAttributes)) {\n",
              "    element.style[key] = styleAttributes[key];\n",
              "  }\n",
              "  return element;\n",
              "}\n",
              "\n",
              "// Max number of bytes which will be uploaded at a time.\n",
              "const MAX_PAYLOAD_SIZE = 100 * 1024;\n",
              "\n",
              "function _uploadFiles(inputId, outputId) {\n",
              "  const steps = uploadFilesStep(inputId, outputId);\n",
              "  const outputElement = document.getElementById(outputId);\n",
              "  // Cache steps on the outputElement to make it available for the next call\n",
              "  // to uploadFilesContinue from Python.\n",
              "  outputElement.steps = steps;\n",
              "\n",
              "  return _uploadFilesContinue(outputId);\n",
              "}\n",
              "\n",
              "// This is roughly an async generator (not supported in the browser yet),\n",
              "// where there are multiple asynchronous steps and the Python side is going\n",
              "// to poll for completion of each step.\n",
              "// This uses a Promise to block the python side on completion of each step,\n",
              "// then passes the result of the previous step as the input to the next step.\n",
              "function _uploadFilesContinue(outputId) {\n",
              "  const outputElement = document.getElementById(outputId);\n",
              "  const steps = outputElement.steps;\n",
              "\n",
              "  const next = steps.next(outputElement.lastPromiseValue);\n",
              "  return Promise.resolve(next.value.promise).then((value) => {\n",
              "    // Cache the last promise value to make it available to the next\n",
              "    // step of the generator.\n",
              "    outputElement.lastPromiseValue = value;\n",
              "    return next.value.response;\n",
              "  });\n",
              "}\n",
              "\n",
              "/**\n",
              " * Generator function which is called between each async step of the upload\n",
              " * process.\n",
              " * @param {string} inputId Element ID of the input file picker element.\n",
              " * @param {string} outputId Element ID of the output display.\n",
              " * @return {!Iterable<!Object>} Iterable of next steps.\n",
              " */\n",
              "function* uploadFilesStep(inputId, outputId) {\n",
              "  const inputElement = document.getElementById(inputId);\n",
              "  inputElement.disabled = false;\n",
              "\n",
              "  const outputElement = document.getElementById(outputId);\n",
              "  outputElement.innerHTML = '';\n",
              "\n",
              "  const pickedPromise = new Promise((resolve) => {\n",
              "    inputElement.addEventListener('change', (e) => {\n",
              "      resolve(e.target.files);\n",
              "    });\n",
              "  });\n",
              "\n",
              "  const cancel = document.createElement('button');\n",
              "  inputElement.parentElement.appendChild(cancel);\n",
              "  cancel.textContent = 'Cancel upload';\n",
              "  const cancelPromise = new Promise((resolve) => {\n",
              "    cancel.onclick = () => {\n",
              "      resolve(null);\n",
              "    };\n",
              "  });\n",
              "\n",
              "  // Wait for the user to pick the files.\n",
              "  const files = yield {\n",
              "    promise: Promise.race([pickedPromise, cancelPromise]),\n",
              "    response: {\n",
              "      action: 'starting',\n",
              "    }\n",
              "  };\n",
              "\n",
              "  cancel.remove();\n",
              "\n",
              "  // Disable the input element since further picks are not allowed.\n",
              "  inputElement.disabled = true;\n",
              "\n",
              "  if (!files) {\n",
              "    return {\n",
              "      response: {\n",
              "        action: 'complete',\n",
              "      }\n",
              "    };\n",
              "  }\n",
              "\n",
              "  for (const file of files) {\n",
              "    const li = document.createElement('li');\n",
              "    li.append(span(file.name, {fontWeight: 'bold'}));\n",
              "    li.append(span(\n",
              "        `(${file.type || 'n/a'}) - ${file.size} bytes, ` +\n",
              "        `last modified: ${\n",
              "            file.lastModifiedDate ? file.lastModifiedDate.toLocaleDateString() :\n",
              "                                    'n/a'} - `));\n",
              "    const percent = span('0% done');\n",
              "    li.appendChild(percent);\n",
              "\n",
              "    outputElement.appendChild(li);\n",
              "\n",
              "    const fileDataPromise = new Promise((resolve) => {\n",
              "      const reader = new FileReader();\n",
              "      reader.onload = (e) => {\n",
              "        resolve(e.target.result);\n",
              "      };\n",
              "      reader.readAsArrayBuffer(file);\n",
              "    });\n",
              "    // Wait for the data to be ready.\n",
              "    let fileData = yield {\n",
              "      promise: fileDataPromise,\n",
              "      response: {\n",
              "        action: 'continue',\n",
              "      }\n",
              "    };\n",
              "\n",
              "    // Use a chunked sending to avoid message size limits. See b/62115660.\n",
              "    let position = 0;\n",
              "    do {\n",
              "      const length = Math.min(fileData.byteLength - position, MAX_PAYLOAD_SIZE);\n",
              "      const chunk = new Uint8Array(fileData, position, length);\n",
              "      position += length;\n",
              "\n",
              "      const base64 = btoa(String.fromCharCode.apply(null, chunk));\n",
              "      yield {\n",
              "        response: {\n",
              "          action: 'append',\n",
              "          file: file.name,\n",
              "          data: base64,\n",
              "        },\n",
              "      };\n",
              "\n",
              "      let percentDone = fileData.byteLength === 0 ?\n",
              "          100 :\n",
              "          Math.round((position / fileData.byteLength) * 100);\n",
              "      percent.textContent = `${percentDone}% done`;\n",
              "\n",
              "    } while (position < fileData.byteLength);\n",
              "  }\n",
              "\n",
              "  // All done.\n",
              "  yield {\n",
              "    response: {\n",
              "      action: 'complete',\n",
              "    }\n",
              "  };\n",
              "}\n",
              "\n",
              "scope.google = scope.google || {};\n",
              "scope.google.colab = scope.google.colab || {};\n",
              "scope.google.colab._files = {\n",
              "  _uploadFiles,\n",
              "  _uploadFilesContinue,\n",
              "};\n",
              "})(self);\n",
              "</script> "
            ]
          },
          "metadata": {}
        },
        {
          "output_type": "stream",
          "name": "stdout",
          "text": [
            "Saving stock.csv to stock.csv\n"
          ]
        }
      ],
      "source": [
        "#import module\n",
        "import pandas as pd\n",
        "import seaborn as sns\n",
        "import matplotlib.pyplot as plt\n",
        "from google.colab import files\n",
        "uploaded = files.upload()"
      ]
    },
    {
      "cell_type": "code",
      "source": [
        "# Membaca file CSV\n",
        "df = pd.read_csv('stock.csv')\n",
        "df"
      ],
      "metadata": {
        "colab": {
          "base_uri": "https://localhost:8080/",
          "height": 573
        },
        "id": "nEp1Uwoy_RRW",
        "outputId": "d3746b62-8a95-4e00-96a2-bc7ec1f9e7a2"
      },
      "execution_count": null,
      "outputs": [
        {
          "output_type": "execute_result",
          "data": {
            "text/plain": [
              "                    Stock Name Symbol  Shares Purchase Price  Cost Basis  \\\n",
              "0                        Apple   AAPL     100         $90.00   $9.000.00   \n",
              "1                    Microsoft   MSFT     200         $32.00   $6.400.00   \n",
              "2                   Salesforce    CRM     150         $25.00   $3.750.00   \n",
              "3                       Oracle   ORCL     250         $50.00  $12.500.00   \n",
              "4   Hewlett Packard Enterprise    HPE     500         $18.00   $9.000.00   \n",
              "5                     Alphabet   GOOG     100        $225.00  $22.500.00   \n",
              "6                        Intel   INTC     200         $22.00   $4.400.00   \n",
              "7                        Cisco   CSCO     225         $18.00   $4.050.00   \n",
              "8                     Qualcomm   QCOM     185         $65.00  $12.025.00   \n",
              "9                       Amazon   AMZN      50        $800.00  $40.000.00   \n",
              "10                      Redhat    RHT     100         $95.00   $9.500.00   \n",
              "11                    Facebook     FB    1000         $17.00  $17.000.00   \n",
              "12                     Twitter   TWTR     500         $45.00  $22.500.00   \n",
              "\n",
              "   Current Price Market Value    Gain/Loss Dividend/share Annual Yield  \n",
              "0        $144.13   $14.413.27   $14.269.14          $2.28        1.58%  \n",
              "1         $65.57   $13.114.14   $13.048.57          $1.56        2.38%  \n",
              "2        $82..57   $12.385.50   $12.302.93          $0.00        0.00%  \n",
              "3         $44.56   $11.138.75   $11.094.20          $0.64        1.44%  \n",
              "4         $17.69    $8.842.50    $8.824.82          $0.26        1.47%  \n",
              "5        $833.36   $83.336.00   $82.502.64          $0.00        0.00%  \n",
              "6         $36.07    $7.213.00    $7.176.94          $1.09        3.02%  \n",
              "7         $33.24    $7.478.78    $7.445.54          $1.16        3.49%  \n",
              "8         $56.48   $10.447.88   $10.391.40          $2.12        3.75%  \n",
              "9        $897.64   $44.882.00   $43.984.36          $0.00        0.00%  \n",
              "10        $86.26    $8.626.00    $8.539.74          $0.00        0.00%  \n",
              "11       $141.64  $141.640.00  $141.498.36          $0.00        0.00%  \n",
              "12        $14.61    $7.302.55    $7.287.94          $0.00        0.00%  "
            ],
            "text/html": [
              "\n",
              "  <div id=\"df-20f38d36-cd64-48fb-9a93-2a829d571563\">\n",
              "    <div class=\"colab-df-container\">\n",
              "      <div>\n",
              "<style scoped>\n",
              "    .dataframe tbody tr th:only-of-type {\n",
              "        vertical-align: middle;\n",
              "    }\n",
              "\n",
              "    .dataframe tbody tr th {\n",
              "        vertical-align: top;\n",
              "    }\n",
              "\n",
              "    .dataframe thead th {\n",
              "        text-align: right;\n",
              "    }\n",
              "</style>\n",
              "<table border=\"1\" class=\"dataframe\">\n",
              "  <thead>\n",
              "    <tr style=\"text-align: right;\">\n",
              "      <th></th>\n",
              "      <th>Stock Name</th>\n",
              "      <th>Symbol</th>\n",
              "      <th>Shares</th>\n",
              "      <th>Purchase Price</th>\n",
              "      <th>Cost Basis</th>\n",
              "      <th>Current Price</th>\n",
              "      <th>Market Value</th>\n",
              "      <th>Gain/Loss</th>\n",
              "      <th>Dividend/share</th>\n",
              "      <th>Annual Yield</th>\n",
              "    </tr>\n",
              "  </thead>\n",
              "  <tbody>\n",
              "    <tr>\n",
              "      <th>0</th>\n",
              "      <td>Apple</td>\n",
              "      <td>AAPL</td>\n",
              "      <td>100</td>\n",
              "      <td>$90.00</td>\n",
              "      <td>$9.000.00</td>\n",
              "      <td>$144.13</td>\n",
              "      <td>$14.413.27</td>\n",
              "      <td>$14.269.14</td>\n",
              "      <td>$2.28</td>\n",
              "      <td>1.58%</td>\n",
              "    </tr>\n",
              "    <tr>\n",
              "      <th>1</th>\n",
              "      <td>Microsoft</td>\n",
              "      <td>MSFT</td>\n",
              "      <td>200</td>\n",
              "      <td>$32.00</td>\n",
              "      <td>$6.400.00</td>\n",
              "      <td>$65.57</td>\n",
              "      <td>$13.114.14</td>\n",
              "      <td>$13.048.57</td>\n",
              "      <td>$1.56</td>\n",
              "      <td>2.38%</td>\n",
              "    </tr>\n",
              "    <tr>\n",
              "      <th>2</th>\n",
              "      <td>Salesforce</td>\n",
              "      <td>CRM</td>\n",
              "      <td>150</td>\n",
              "      <td>$25.00</td>\n",
              "      <td>$3.750.00</td>\n",
              "      <td>$82..57</td>\n",
              "      <td>$12.385.50</td>\n",
              "      <td>$12.302.93</td>\n",
              "      <td>$0.00</td>\n",
              "      <td>0.00%</td>\n",
              "    </tr>\n",
              "    <tr>\n",
              "      <th>3</th>\n",
              "      <td>Oracle</td>\n",
              "      <td>ORCL</td>\n",
              "      <td>250</td>\n",
              "      <td>$50.00</td>\n",
              "      <td>$12.500.00</td>\n",
              "      <td>$44.56</td>\n",
              "      <td>$11.138.75</td>\n",
              "      <td>$11.094.20</td>\n",
              "      <td>$0.64</td>\n",
              "      <td>1.44%</td>\n",
              "    </tr>\n",
              "    <tr>\n",
              "      <th>4</th>\n",
              "      <td>Hewlett Packard Enterprise</td>\n",
              "      <td>HPE</td>\n",
              "      <td>500</td>\n",
              "      <td>$18.00</td>\n",
              "      <td>$9.000.00</td>\n",
              "      <td>$17.69</td>\n",
              "      <td>$8.842.50</td>\n",
              "      <td>$8.824.82</td>\n",
              "      <td>$0.26</td>\n",
              "      <td>1.47%</td>\n",
              "    </tr>\n",
              "    <tr>\n",
              "      <th>5</th>\n",
              "      <td>Alphabet</td>\n",
              "      <td>GOOG</td>\n",
              "      <td>100</td>\n",
              "      <td>$225.00</td>\n",
              "      <td>$22.500.00</td>\n",
              "      <td>$833.36</td>\n",
              "      <td>$83.336.00</td>\n",
              "      <td>$82.502.64</td>\n",
              "      <td>$0.00</td>\n",
              "      <td>0.00%</td>\n",
              "    </tr>\n",
              "    <tr>\n",
              "      <th>6</th>\n",
              "      <td>Intel</td>\n",
              "      <td>INTC</td>\n",
              "      <td>200</td>\n",
              "      <td>$22.00</td>\n",
              "      <td>$4.400.00</td>\n",
              "      <td>$36.07</td>\n",
              "      <td>$7.213.00</td>\n",
              "      <td>$7.176.94</td>\n",
              "      <td>$1.09</td>\n",
              "      <td>3.02%</td>\n",
              "    </tr>\n",
              "    <tr>\n",
              "      <th>7</th>\n",
              "      <td>Cisco</td>\n",
              "      <td>CSCO</td>\n",
              "      <td>225</td>\n",
              "      <td>$18.00</td>\n",
              "      <td>$4.050.00</td>\n",
              "      <td>$33.24</td>\n",
              "      <td>$7.478.78</td>\n",
              "      <td>$7.445.54</td>\n",
              "      <td>$1.16</td>\n",
              "      <td>3.49%</td>\n",
              "    </tr>\n",
              "    <tr>\n",
              "      <th>8</th>\n",
              "      <td>Qualcomm</td>\n",
              "      <td>QCOM</td>\n",
              "      <td>185</td>\n",
              "      <td>$65.00</td>\n",
              "      <td>$12.025.00</td>\n",
              "      <td>$56.48</td>\n",
              "      <td>$10.447.88</td>\n",
              "      <td>$10.391.40</td>\n",
              "      <td>$2.12</td>\n",
              "      <td>3.75%</td>\n",
              "    </tr>\n",
              "    <tr>\n",
              "      <th>9</th>\n",
              "      <td>Amazon</td>\n",
              "      <td>AMZN</td>\n",
              "      <td>50</td>\n",
              "      <td>$800.00</td>\n",
              "      <td>$40.000.00</td>\n",
              "      <td>$897.64</td>\n",
              "      <td>$44.882.00</td>\n",
              "      <td>$43.984.36</td>\n",
              "      <td>$0.00</td>\n",
              "      <td>0.00%</td>\n",
              "    </tr>\n",
              "    <tr>\n",
              "      <th>10</th>\n",
              "      <td>Redhat</td>\n",
              "      <td>RHT</td>\n",
              "      <td>100</td>\n",
              "      <td>$95.00</td>\n",
              "      <td>$9.500.00</td>\n",
              "      <td>$86.26</td>\n",
              "      <td>$8.626.00</td>\n",
              "      <td>$8.539.74</td>\n",
              "      <td>$0.00</td>\n",
              "      <td>0.00%</td>\n",
              "    </tr>\n",
              "    <tr>\n",
              "      <th>11</th>\n",
              "      <td>Facebook</td>\n",
              "      <td>FB</td>\n",
              "      <td>1000</td>\n",
              "      <td>$17.00</td>\n",
              "      <td>$17.000.00</td>\n",
              "      <td>$141.64</td>\n",
              "      <td>$141.640.00</td>\n",
              "      <td>$141.498.36</td>\n",
              "      <td>$0.00</td>\n",
              "      <td>0.00%</td>\n",
              "    </tr>\n",
              "    <tr>\n",
              "      <th>12</th>\n",
              "      <td>Twitter</td>\n",
              "      <td>TWTR</td>\n",
              "      <td>500</td>\n",
              "      <td>$45.00</td>\n",
              "      <td>$22.500.00</td>\n",
              "      <td>$14.61</td>\n",
              "      <td>$7.302.55</td>\n",
              "      <td>$7.287.94</td>\n",
              "      <td>$0.00</td>\n",
              "      <td>0.00%</td>\n",
              "    </tr>\n",
              "  </tbody>\n",
              "</table>\n",
              "</div>\n",
              "      <button class=\"colab-df-convert\" onclick=\"convertToInteractive('df-20f38d36-cd64-48fb-9a93-2a829d571563')\"\n",
              "              title=\"Convert this dataframe to an interactive table.\"\n",
              "              style=\"display:none;\">\n",
              "        \n",
              "  <svg xmlns=\"http://www.w3.org/2000/svg\" height=\"24px\"viewBox=\"0 0 24 24\"\n",
              "       width=\"24px\">\n",
              "    <path d=\"M0 0h24v24H0V0z\" fill=\"none\"/>\n",
              "    <path d=\"M18.56 5.44l.94 2.06.94-2.06 2.06-.94-2.06-.94-.94-2.06-.94 2.06-2.06.94zm-11 1L8.5 8.5l.94-2.06 2.06-.94-2.06-.94L8.5 2.5l-.94 2.06-2.06.94zm10 10l.94 2.06.94-2.06 2.06-.94-2.06-.94-.94-2.06-.94 2.06-2.06.94z\"/><path d=\"M17.41 7.96l-1.37-1.37c-.4-.4-.92-.59-1.43-.59-.52 0-1.04.2-1.43.59L10.3 9.45l-7.72 7.72c-.78.78-.78 2.05 0 2.83L4 21.41c.39.39.9.59 1.41.59.51 0 1.02-.2 1.41-.59l7.78-7.78 2.81-2.81c.8-.78.8-2.07 0-2.86zM5.41 20L4 18.59l7.72-7.72 1.47 1.35L5.41 20z\"/>\n",
              "  </svg>\n",
              "      </button>\n",
              "      \n",
              "  <style>\n",
              "    .colab-df-container {\n",
              "      display:flex;\n",
              "      flex-wrap:wrap;\n",
              "      gap: 12px;\n",
              "    }\n",
              "\n",
              "    .colab-df-convert {\n",
              "      background-color: #E8F0FE;\n",
              "      border: none;\n",
              "      border-radius: 50%;\n",
              "      cursor: pointer;\n",
              "      display: none;\n",
              "      fill: #1967D2;\n",
              "      height: 32px;\n",
              "      padding: 0 0 0 0;\n",
              "      width: 32px;\n",
              "    }\n",
              "\n",
              "    .colab-df-convert:hover {\n",
              "      background-color: #E2EBFA;\n",
              "      box-shadow: 0px 1px 2px rgba(60, 64, 67, 0.3), 0px 1px 3px 1px rgba(60, 64, 67, 0.15);\n",
              "      fill: #174EA6;\n",
              "    }\n",
              "\n",
              "    [theme=dark] .colab-df-convert {\n",
              "      background-color: #3B4455;\n",
              "      fill: #D2E3FC;\n",
              "    }\n",
              "\n",
              "    [theme=dark] .colab-df-convert:hover {\n",
              "      background-color: #434B5C;\n",
              "      box-shadow: 0px 1px 3px 1px rgba(0, 0, 0, 0.15);\n",
              "      filter: drop-shadow(0px 1px 2px rgba(0, 0, 0, 0.3));\n",
              "      fill: #FFFFFF;\n",
              "    }\n",
              "  </style>\n",
              "\n",
              "      <script>\n",
              "        const buttonEl =\n",
              "          document.querySelector('#df-20f38d36-cd64-48fb-9a93-2a829d571563 button.colab-df-convert');\n",
              "        buttonEl.style.display =\n",
              "          google.colab.kernel.accessAllowed ? 'block' : 'none';\n",
              "\n",
              "        async function convertToInteractive(key) {\n",
              "          const element = document.querySelector('#df-20f38d36-cd64-48fb-9a93-2a829d571563');\n",
              "          const dataTable =\n",
              "            await google.colab.kernel.invokeFunction('convertToInteractive',\n",
              "                                                     [key], {});\n",
              "          if (!dataTable) return;\n",
              "\n",
              "          const docLinkHtml = 'Like what you see? Visit the ' +\n",
              "            '<a target=\"_blank\" href=https://colab.research.google.com/notebooks/data_table.ipynb>data table notebook</a>'\n",
              "            + ' to learn more about interactive tables.';\n",
              "          element.innerHTML = '';\n",
              "          dataTable['output_type'] = 'display_data';\n",
              "          await google.colab.output.renderOutput(dataTable, element);\n",
              "          const docLink = document.createElement('div');\n",
              "          docLink.innerHTML = docLinkHtml;\n",
              "          element.appendChild(docLink);\n",
              "        }\n",
              "      </script>\n",
              "    </div>\n",
              "  </div>\n",
              "  "
            ]
          },
          "metadata": {},
          "execution_count": 4
        }
      ]
    },
    {
      "cell_type": "code",
      "source": [
        "plt.figure(figsize=(10, 5))\n",
        "plt.hist(df['Purchase Price'], range=(1,15), edgecolor='white',color='yellow')\n",
        "plt.title('Histogram of Purchase Price', loc='center', pad=30, fontsize=15, color='black')\n",
        "plt.xlabel('Purchase Price')\n",
        "plt.ylabel('Frequency')\n",
        "\n",
        "plt.show()"
      ],
      "metadata": {
        "colab": {
          "base_uri": "https://localhost:8080/",
          "height": 522
        },
        "id": "-9rP0oDbABqy",
        "outputId": "526e5141-e5d8-4461-967a-c51438a1c3af"
      },
      "execution_count": 24,
      "outputs": [
        {
          "output_type": "display_data",
          "data": {
            "text/plain": [
              "<Figure size 1000x500 with 1 Axes>"
            ],
            "image/png": "[encoded data removed]"
          },
          "metadata": {}
        }
      ]
    },
    {
      "cell_type": "code",
      "source": [
        "plt.figure(figsize=(10, 5))\n",
        "plt.hist(df['Current Price'],range=(1,15), edgecolor='white',color='yellow')\n",
        "plt.title('Histogram of Current Price', loc='center', fontsize=15, color='Black')\n",
        "plt.xlabel('Current Price')\n",
        "plt.ylabel('Frequency')\n",
        "plt.show()"
      ],
      "metadata": {
        "id": "v69d30nWAO9y",
        "colab": {
          "base_uri": "https://localhost:8080/",
          "height": 489
        },
        "outputId": "a84a4483-c17b-4b89-966e-8e0968f02df2"
      },
      "execution_count": 25,
      "outputs": [
        {
          "output_type": "display_data",
          "data": {
            "text/plain": [
              "<Figure size 1000x500 with 1 Axes>"
            ],
            "image/png": "[encoded data removed]"
          },
          "metadata": {}
        }
      ]
    },
    {
      "cell_type": "code",
      "source": [
        "plt.figure(figsize=(10, 5))\n",
        "plt.hist(df['Gain/Loss'],range=(1,15), edgecolor='white',color='yellow')\n",
        "plt.title('Histogram of Gain/Loss', loc='center', fontsize=15, color='black')\n",
        "plt.xlabel('Gain/Loss')\n",
        "plt.ylabel('Frequency')\n",
        "plt.show()"
      ],
      "metadata": {
        "id": "U2ZAPu7eAd9i",
        "colab": {
          "base_uri": "https://localhost:8080/",
          "height": 489
        },
        "outputId": "f305c618-977b-4103-d0b6-40dcd60b5e99"
      },
      "execution_count": 26,
      "outputs": [
        {
          "output_type": "display_data",
          "data": {
            "text/plain": [
              "<Figure size 1000x500 with 1 Axes>"
            ],
            "image/png": "[encoded data removed]"
          },
          "metadata": {}
        }
      ]
    },
    {
      "cell_type": "code",
      "source": [
        "#memilih data Shares tertinggi\n",
        "sorted_df = df.sort_values('Dividend/share', ascending=False)\n",
        "td5 = sorted_df.head(5) #td5 (Top Divident 5)\n",
        "\n",
        "#memberi nomer urut\n",
        "td5 = td5.set_index(pd.Index(range(1, len(td5)+1)))\n",
        "\n",
        "#memberi nama tabel\n",
        "result = td5[['Stock Name', 'Symbol','Dividend/share']]\n",
        "\n",
        "#menampilkan hasil\n",
        "print('Top 5 Stocks with highest Dividend/share:')\n",
        "print(result)"
      ],
      "metadata": {
        "id": "1xGROo5iAic8",
        "colab": {
          "base_uri": "https://localhost:8080/"
        },
        "outputId": "1858bca1-1b82-4e56-9894-52183b076b82"
      },
      "execution_count": 10,
      "outputs": [
        {
          "output_type": "stream",
          "name": "stdout",
          "text": [
            "Top 5 Stocks with highest Dividend/share:\n",
            "  Stock Name Symbol Dividend/share\n",
            "1      Apple   AAPL          $2.28\n",
            "2   Qualcomm   QCOM          $2.12\n",
            "3  Microsoft   MSFT          $1.56\n",
            "4      Cisco   CSCO          $1.16\n",
            "5      Intel   INTC          $1.09\n"
          ]
        }
      ]
    },
    {
      "cell_type": "code",
      "source": [
        "#memilih data market Value\n",
        "sorted_df = df.sort_values('Market Value', ascending=False).reset_index(drop=True)\n",
        "top_mv = sorted_df.head(5) #mv = Market Value\n",
        "\n",
        "#memberi nomer urut\n",
        "top_mv = top_mv.set_index(pd.Index(range(1, len(top_mv)+1)))\n",
        "\n",
        "#memberi nama tabel\n",
        "result = top_mv[['Stock Name', 'Symbol','Market Value']]\n",
        "\n",
        "#menampilkan hasil\n",
        "print('\\nTop 5 Stocks with highest Market Value:')\n",
        "print(result)"
      ],
      "metadata": {
        "id": "8KD1n5jDAmGA",
        "colab": {
          "base_uri": "https://localhost:8080/"
        },
        "outputId": "d4e50056-c095-45ea-f96a-83c99fa3d5cc"
      },
      "execution_count": 11,
      "outputs": [
        {
          "output_type": "stream",
          "name": "stdout",
          "text": [
            "\n",
            "Top 5 Stocks with highest Market Value:\n",
            "                   Stock Name Symbol Market Value\n",
            "1                    Alphabet   GOOG   $83.336.00\n",
            "2  Hewlett Packard Enterprise    HPE    $8.842.50\n",
            "3                      Redhat    RHT    $8.626.00\n",
            "4                       Cisco   CSCO    $7.478.78\n",
            "5                     Twitter   TWTR    $7.302.55\n"
          ]
        }
      ]
    },
    {
      "cell_type": "code",
      "source": [
        "#memilih data Annual Yield\n",
        "sorted_df = df.sort_values('Annual Yield', ascending=False)\n",
        "top_ay = sorted_df.head(7) #ay = Annual Yield\n",
        "\n",
        "#memberi nomer urut\n",
        "top_ay = top_ay.set_index(pd.Index(range(1, len(top_ay)+1)))\n",
        "\n",
        "#memberi nama tabel\n",
        "result = top_ay[['Stock Name', 'Symbol','Annual Yield']]\n",
        "\n",
        "#menampilkan hasil\n",
        "print('\\nTop 7 Stocks with highest Annual Yield:')\n",
        "print(result)"
      ],
      "metadata": {
        "id": "G4PDTYQDA0T8",
        "colab": {
          "base_uri": "https://localhost:8080/"
        },
        "outputId": "592fe653-bce8-4e1b-d9ea-de0ac92a2b9c"
      },
      "execution_count": 13,
      "outputs": [
        {
          "output_type": "stream",
          "name": "stdout",
          "text": [
            "\n",
            "Top 7 Stocks with highest Annual Yield:\n",
            "                   Stock Name Symbol Annual Yield\n",
            "1                    Qualcomm   QCOM        3.75%\n",
            "2                       Cisco   CSCO        3.49%\n",
            "3                       Intel   INTC        3.02%\n",
            "4                   Microsoft   MSFT        2.38%\n",
            "5                       Apple   AAPL        1.58%\n",
            "6  Hewlett Packard Enterprise    HPE        1.47%\n",
            "7                      Oracle   ORCL        1.44%\n"
          ]
        }
      ]
    }
  ]
}